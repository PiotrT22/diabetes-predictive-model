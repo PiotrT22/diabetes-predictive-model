{
 "cells": [
  {
   "cell_type": "markdown",
   "id": "a1c41851",
   "metadata": {},
   "source": [
    "## Diabities analysis"
   ]
  },
  {
   "cell_type": "markdown",
   "id": "0fc528cd",
   "metadata": {},
   "source": [
    "The purpose of this analysis is to create a predictive model, examinig influence of biological features on probability of getting ill on diabities for women. Specific variables represent levels of biological characteristics of the subjects. Subjects in this particular dataset include women who are 21 years of age or older."
   ]
  },
  {
   "cell_type": "code",
   "execution_count": 1,
   "id": "8e843c3d",
   "metadata": {},
   "outputs": [],
   "source": [
    "import pandas as pd\n",
    "import numpy as np\n",
    "import matplotlib.pyplot as plt\n",
    "\n",
    "from sklearn.model_selection import train_test_split\n",
    "from sklearn.linear_model import LogisticRegression\n",
    "from sklearn.feature_selection import chi2"
   ]
  },
  {
   "cell_type": "code",
   "execution_count": 2,
   "id": "80e876df",
   "metadata": {},
   "outputs": [],
   "source": [
    "data_backup = pd.read_csv('dataset_zadanie.csv')"
   ]
  },
  {
   "cell_type": "code",
   "execution_count": 3,
   "id": "9a8c2711",
   "metadata": {},
   "outputs": [
    {
     "data": {
      "text/html": [
       "<div>\n",
       "<style scoped>\n",
       "    .dataframe tbody tr th:only-of-type {\n",
       "        vertical-align: middle;\n",
       "    }\n",
       "\n",
       "    .dataframe tbody tr th {\n",
       "        vertical-align: top;\n",
       "    }\n",
       "\n",
       "    .dataframe thead th {\n",
       "        text-align: right;\n",
       "    }\n",
       "</style>\n",
       "<table border=\"1\" class=\"dataframe\">\n",
       "  <thead>\n",
       "    <tr style=\"text-align: right;\">\n",
       "      <th></th>\n",
       "      <th>Pregnancies</th>\n",
       "      <th>Glucose</th>\n",
       "      <th>BloodPressure</th>\n",
       "      <th>SkinThickness</th>\n",
       "      <th>Insulin</th>\n",
       "      <th>BMI</th>\n",
       "      <th>DiabetesPedigreeFunction</th>\n",
       "      <th>Age</th>\n",
       "      <th>Outcome</th>\n",
       "    </tr>\n",
       "  </thead>\n",
       "  <tbody>\n",
       "    <tr>\n",
       "      <th>0</th>\n",
       "      <td>1</td>\n",
       "      <td>122</td>\n",
       "      <td>90</td>\n",
       "      <td>51</td>\n",
       "      <td>220</td>\n",
       "      <td>49.7</td>\n",
       "      <td>0.325</td>\n",
       "      <td>31</td>\n",
       "      <td>1</td>\n",
       "    </tr>\n",
       "    <tr>\n",
       "      <th>1</th>\n",
       "      <td>1</td>\n",
       "      <td>163</td>\n",
       "      <td>72</td>\n",
       "      <td>0</td>\n",
       "      <td>0</td>\n",
       "      <td>39.0</td>\n",
       "      <td>1.222</td>\n",
       "      <td>33</td>\n",
       "      <td>1</td>\n",
       "    </tr>\n",
       "    <tr>\n",
       "      <th>2</th>\n",
       "      <td>1</td>\n",
       "      <td>151</td>\n",
       "      <td>60</td>\n",
       "      <td>0</td>\n",
       "      <td>0</td>\n",
       "      <td>26.1</td>\n",
       "      <td>0.179</td>\n",
       "      <td>22</td>\n",
       "      <td>0</td>\n",
       "    </tr>\n",
       "    <tr>\n",
       "      <th>3</th>\n",
       "      <td>0</td>\n",
       "      <td>125</td>\n",
       "      <td>96</td>\n",
       "      <td>0</td>\n",
       "      <td>0</td>\n",
       "      <td>22.5</td>\n",
       "      <td>0.262</td>\n",
       "      <td>21</td>\n",
       "      <td>0</td>\n",
       "    </tr>\n",
       "    <tr>\n",
       "      <th>4</th>\n",
       "      <td>1</td>\n",
       "      <td>81</td>\n",
       "      <td>72</td>\n",
       "      <td>18</td>\n",
       "      <td>40</td>\n",
       "      <td>26.6</td>\n",
       "      <td>0.283</td>\n",
       "      <td>24</td>\n",
       "      <td>0</td>\n",
       "    </tr>\n",
       "    <tr>\n",
       "      <th>...</th>\n",
       "      <td>...</td>\n",
       "      <td>...</td>\n",
       "      <td>...</td>\n",
       "      <td>...</td>\n",
       "      <td>...</td>\n",
       "      <td>...</td>\n",
       "      <td>...</td>\n",
       "      <td>...</td>\n",
       "      <td>...</td>\n",
       "    </tr>\n",
       "    <tr>\n",
       "      <th>744</th>\n",
       "      <td>1</td>\n",
       "      <td>0</td>\n",
       "      <td>48</td>\n",
       "      <td>20</td>\n",
       "      <td>0</td>\n",
       "      <td>24.7</td>\n",
       "      <td>0.140</td>\n",
       "      <td>22</td>\n",
       "      <td>0</td>\n",
       "    </tr>\n",
       "    <tr>\n",
       "      <th>745</th>\n",
       "      <td>7</td>\n",
       "      <td>62</td>\n",
       "      <td>78</td>\n",
       "      <td>0</td>\n",
       "      <td>0</td>\n",
       "      <td>32.6</td>\n",
       "      <td>0.391</td>\n",
       "      <td>41</td>\n",
       "      <td>0</td>\n",
       "    </tr>\n",
       "    <tr>\n",
       "      <th>746</th>\n",
       "      <td>5</td>\n",
       "      <td>95</td>\n",
       "      <td>72</td>\n",
       "      <td>33</td>\n",
       "      <td>0</td>\n",
       "      <td>37.7</td>\n",
       "      <td>0.370</td>\n",
       "      <td>27</td>\n",
       "      <td>0</td>\n",
       "    </tr>\n",
       "    <tr>\n",
       "      <th>747</th>\n",
       "      <td>0</td>\n",
       "      <td>131</td>\n",
       "      <td>0</td>\n",
       "      <td>0</td>\n",
       "      <td>0</td>\n",
       "      <td>43.2</td>\n",
       "      <td>0.270</td>\n",
       "      <td>26</td>\n",
       "      <td>1</td>\n",
       "    </tr>\n",
       "    <tr>\n",
       "      <th>748</th>\n",
       "      <td>2</td>\n",
       "      <td>112</td>\n",
       "      <td>66</td>\n",
       "      <td>22</td>\n",
       "      <td>0</td>\n",
       "      <td>25.0</td>\n",
       "      <td>0.307</td>\n",
       "      <td>24</td>\n",
       "      <td>0</td>\n",
       "    </tr>\n",
       "  </tbody>\n",
       "</table>\n",
       "<p>749 rows × 9 columns</p>\n",
       "</div>"
      ],
      "text/plain": [
       "     Pregnancies  Glucose  BloodPressure  SkinThickness  Insulin   BMI  \\\n",
       "0              1      122             90             51      220  49.7   \n",
       "1              1      163             72              0        0  39.0   \n",
       "2              1      151             60              0        0  26.1   \n",
       "3              0      125             96              0        0  22.5   \n",
       "4              1       81             72             18       40  26.6   \n",
       "..           ...      ...            ...            ...      ...   ...   \n",
       "744            1        0             48             20        0  24.7   \n",
       "745            7       62             78              0        0  32.6   \n",
       "746            5       95             72             33        0  37.7   \n",
       "747            0      131              0              0        0  43.2   \n",
       "748            2      112             66             22        0  25.0   \n",
       "\n",
       "     DiabetesPedigreeFunction  Age  Outcome  \n",
       "0                       0.325   31        1  \n",
       "1                       1.222   33        1  \n",
       "2                       0.179   22        0  \n",
       "3                       0.262   21        0  \n",
       "4                       0.283   24        0  \n",
       "..                        ...  ...      ...  \n",
       "744                     0.140   22        0  \n",
       "745                     0.391   41        0  \n",
       "746                     0.370   27        0  \n",
       "747                     0.270   26        1  \n",
       "748                     0.307   24        0  \n",
       "\n",
       "[749 rows x 9 columns]"
      ]
     },
     "execution_count": 3,
     "metadata": {},
     "output_type": "execute_result"
    }
   ],
   "source": [
    "data = data_backup\n",
    "data"
   ]
  },
  {
   "cell_type": "markdown",
   "id": "9b3b061b",
   "metadata": {},
   "source": [
    "## Exploring data"
   ]
  },
  {
   "cell_type": "code",
   "execution_count": 4,
   "id": "7b4e250e",
   "metadata": {
    "scrolled": false
   },
   "outputs": [
    {
     "data": {
      "text/plain": [
       "Pregnancies                 0\n",
       "Glucose                     0\n",
       "BloodPressure               0\n",
       "SkinThickness               0\n",
       "Insulin                     0\n",
       "BMI                         0\n",
       "DiabetesPedigreeFunction    0\n",
       "Age                         0\n",
       "Outcome                     0\n",
       "dtype: int64"
      ]
     },
     "execution_count": 4,
     "metadata": {},
     "output_type": "execute_result"
    }
   ],
   "source": [
    "data.isna().sum()\n",
    "#no NA values"
   ]
  },
  {
   "cell_type": "code",
   "execution_count": 5,
   "id": "62019c0f",
   "metadata": {},
   "outputs": [
    {
     "data": {
      "text/plain": [
       "Pregnancies                 110\n",
       "Glucose                       5\n",
       "BloodPressure                34\n",
       "SkinThickness               223\n",
       "Insulin                     365\n",
       "BMI                          10\n",
       "DiabetesPedigreeFunction      0\n",
       "Age                           0\n",
       "Outcome                     484\n",
       "dtype: int64"
      ]
     },
     "execution_count": 5,
     "metadata": {},
     "output_type": "execute_result"
    }
   ],
   "source": [
    "(data == 0).sum()\n",
    "#plenty of 0 values"
   ]
  },
  {
   "cell_type": "markdown",
   "id": "c5fa9396",
   "metadata": {},
   "source": [
    "### Problem with Insulin variable"
   ]
  },
  {
   "cell_type": "markdown",
   "id": "da63c177",
   "metadata": {},
   "source": [
    "During our analysis, we spot that in 48% of cases, 'Insulin' equals zero. It is biologically impossible for a man to have insulin level equal to zero. "
   ]
  },
  {
   "cell_type": "code",
   "execution_count": 6,
   "id": "09ad1592",
   "metadata": {},
   "outputs": [
    {
     "data": {
      "text/plain": [
       "Pregnancies                 14.686248\n",
       "Glucose                      0.667557\n",
       "BloodPressure                4.539386\n",
       "SkinThickness               29.773031\n",
       "Insulin                     48.731642\n",
       "BMI                          1.335113\n",
       "DiabetesPedigreeFunction     0.000000\n",
       "Age                          0.000000\n",
       "Outcome                     64.619493\n",
       "dtype: float64"
      ]
     },
     "execution_count": 6,
     "metadata": {},
     "output_type": "execute_result"
    }
   ],
   "source": [
    "((data == 0).sum() / data.count()) * 100"
   ]
  },
  {
   "cell_type": "markdown",
   "id": "cf137e2a",
   "metadata": {},
   "source": [
    "Insulin variable equals zero in almost 49 percent of all observations, so changing zero values to some other (e.g. sample average) could disturb our analysis, thus later on we may decide to drop Insulin variable from our data."
   ]
  },
  {
   "cell_type": "markdown",
   "id": "84946179",
   "metadata": {},
   "source": [
    "### Applying mean to empty variables"
   ]
  },
  {
   "cell_type": "code",
   "execution_count": 7,
   "id": "e297c342",
   "metadata": {},
   "outputs": [
    {
     "data": {
      "text/plain": [
       "Pregnancies                 110\n",
       "Glucose                       0\n",
       "BloodPressure                 0\n",
       "SkinThickness                 0\n",
       "Insulin                       0\n",
       "BMI                           0\n",
       "DiabetesPedigreeFunction      0\n",
       "Age                           0\n",
       "Outcome                     484\n",
       "dtype: int64"
      ]
     },
     "execution_count": 7,
     "metadata": {},
     "output_type": "execute_result"
    }
   ],
   "source": [
    "data['Glucose'] = data['Glucose'].replace(0, data['Glucose'].mean())\n",
    "data['BloodPressure'] = data['BloodPressure'].replace(0, data['BloodPressure'].mean())\n",
    "data['SkinThickness'] = data['SkinThickness'].replace(0, data['SkinThickness'].mean())\n",
    "data['BMI'] = data['BMI'].replace(0, data['BMI'].mean())\n",
    "data['Insulin'] = data['Insulin'].replace(0, data['Insulin'].mean())\n",
    "(data == 0).sum()"
   ]
  },
  {
   "cell_type": "markdown",
   "id": "85712d15",
   "metadata": {},
   "source": [
    "### Calculating significance of the variables"
   ]
  },
  {
   "cell_type": "code",
   "execution_count": 8,
   "id": "74e2cefc",
   "metadata": {},
   "outputs": [],
   "source": [
    "A = data.iloc[:,0:-1]\n",
    "b = data.iloc[:,-1]"
   ]
  },
  {
   "cell_type": "code",
   "execution_count": 9,
   "id": "e489511a",
   "metadata": {
    "scrolled": true
   },
   "outputs": [
    {
     "data": {
      "text/html": [
       "<div>\n",
       "<style scoped>\n",
       "    .dataframe tbody tr th:only-of-type {\n",
       "        vertical-align: middle;\n",
       "    }\n",
       "\n",
       "    .dataframe tbody tr th {\n",
       "        vertical-align: top;\n",
       "    }\n",
       "\n",
       "    .dataframe thead th {\n",
       "        text-align: right;\n",
       "    }\n",
       "</style>\n",
       "<table border=\"1\" class=\"dataframe\">\n",
       "  <thead>\n",
       "    <tr style=\"text-align: right;\">\n",
       "      <th></th>\n",
       "      <th>Pregnancies</th>\n",
       "      <th>Glucose</th>\n",
       "      <th>BloodPressure</th>\n",
       "      <th>SkinThickness</th>\n",
       "      <th>Insulin</th>\n",
       "      <th>BMI</th>\n",
       "      <th>DiabetesPedigreeFunction</th>\n",
       "      <th>Age</th>\n",
       "    </tr>\n",
       "  </thead>\n",
       "  <tbody>\n",
       "    <tr>\n",
       "      <th>0</th>\n",
       "      <td>1</td>\n",
       "      <td>122.000000</td>\n",
       "      <td>90.000000</td>\n",
       "      <td>51.000000</td>\n",
       "      <td>220.000000</td>\n",
       "      <td>49.7</td>\n",
       "      <td>0.325</td>\n",
       "      <td>31</td>\n",
       "    </tr>\n",
       "    <tr>\n",
       "      <th>1</th>\n",
       "      <td>1</td>\n",
       "      <td>163.000000</td>\n",
       "      <td>72.000000</td>\n",
       "      <td>20.520694</td>\n",
       "      <td>80.444593</td>\n",
       "      <td>39.0</td>\n",
       "      <td>1.222</td>\n",
       "      <td>33</td>\n",
       "    </tr>\n",
       "    <tr>\n",
       "      <th>2</th>\n",
       "      <td>1</td>\n",
       "      <td>151.000000</td>\n",
       "      <td>60.000000</td>\n",
       "      <td>20.520694</td>\n",
       "      <td>80.444593</td>\n",
       "      <td>26.1</td>\n",
       "      <td>0.179</td>\n",
       "      <td>22</td>\n",
       "    </tr>\n",
       "    <tr>\n",
       "      <th>3</th>\n",
       "      <td>0</td>\n",
       "      <td>125.000000</td>\n",
       "      <td>96.000000</td>\n",
       "      <td>20.520694</td>\n",
       "      <td>80.444593</td>\n",
       "      <td>22.5</td>\n",
       "      <td>0.262</td>\n",
       "      <td>21</td>\n",
       "    </tr>\n",
       "    <tr>\n",
       "      <th>4</th>\n",
       "      <td>1</td>\n",
       "      <td>81.000000</td>\n",
       "      <td>72.000000</td>\n",
       "      <td>18.000000</td>\n",
       "      <td>40.000000</td>\n",
       "      <td>26.6</td>\n",
       "      <td>0.283</td>\n",
       "      <td>24</td>\n",
       "    </tr>\n",
       "    <tr>\n",
       "      <th>...</th>\n",
       "      <td>...</td>\n",
       "      <td>...</td>\n",
       "      <td>...</td>\n",
       "      <td>...</td>\n",
       "      <td>...</td>\n",
       "      <td>...</td>\n",
       "      <td>...</td>\n",
       "      <td>...</td>\n",
       "    </tr>\n",
       "    <tr>\n",
       "      <th>744</th>\n",
       "      <td>1</td>\n",
       "      <td>121.255007</td>\n",
       "      <td>48.000000</td>\n",
       "      <td>20.000000</td>\n",
       "      <td>80.444593</td>\n",
       "      <td>24.7</td>\n",
       "      <td>0.140</td>\n",
       "      <td>22</td>\n",
       "    </tr>\n",
       "    <tr>\n",
       "      <th>745</th>\n",
       "      <td>7</td>\n",
       "      <td>62.000000</td>\n",
       "      <td>78.000000</td>\n",
       "      <td>20.520694</td>\n",
       "      <td>80.444593</td>\n",
       "      <td>32.6</td>\n",
       "      <td>0.391</td>\n",
       "      <td>41</td>\n",
       "    </tr>\n",
       "    <tr>\n",
       "      <th>746</th>\n",
       "      <td>5</td>\n",
       "      <td>95.000000</td>\n",
       "      <td>72.000000</td>\n",
       "      <td>33.000000</td>\n",
       "      <td>80.444593</td>\n",
       "      <td>37.7</td>\n",
       "      <td>0.370</td>\n",
       "      <td>27</td>\n",
       "    </tr>\n",
       "    <tr>\n",
       "      <th>747</th>\n",
       "      <td>0</td>\n",
       "      <td>131.000000</td>\n",
       "      <td>69.194927</td>\n",
       "      <td>20.520694</td>\n",
       "      <td>80.444593</td>\n",
       "      <td>43.2</td>\n",
       "      <td>0.270</td>\n",
       "      <td>26</td>\n",
       "    </tr>\n",
       "    <tr>\n",
       "      <th>748</th>\n",
       "      <td>2</td>\n",
       "      <td>112.000000</td>\n",
       "      <td>66.000000</td>\n",
       "      <td>22.000000</td>\n",
       "      <td>80.444593</td>\n",
       "      <td>25.0</td>\n",
       "      <td>0.307</td>\n",
       "      <td>24</td>\n",
       "    </tr>\n",
       "  </tbody>\n",
       "</table>\n",
       "<p>749 rows × 8 columns</p>\n",
       "</div>"
      ],
      "text/plain": [
       "     Pregnancies     Glucose  BloodPressure  SkinThickness     Insulin   BMI  \\\n",
       "0              1  122.000000      90.000000      51.000000  220.000000  49.7   \n",
       "1              1  163.000000      72.000000      20.520694   80.444593  39.0   \n",
       "2              1  151.000000      60.000000      20.520694   80.444593  26.1   \n",
       "3              0  125.000000      96.000000      20.520694   80.444593  22.5   \n",
       "4              1   81.000000      72.000000      18.000000   40.000000  26.6   \n",
       "..           ...         ...            ...            ...         ...   ...   \n",
       "744            1  121.255007      48.000000      20.000000   80.444593  24.7   \n",
       "745            7   62.000000      78.000000      20.520694   80.444593  32.6   \n",
       "746            5   95.000000      72.000000      33.000000   80.444593  37.7   \n",
       "747            0  131.000000      69.194927      20.520694   80.444593  43.2   \n",
       "748            2  112.000000      66.000000      22.000000   80.444593  25.0   \n",
       "\n",
       "     DiabetesPedigreeFunction  Age  \n",
       "0                       0.325   31  \n",
       "1                       1.222   33  \n",
       "2                       0.179   22  \n",
       "3                       0.262   21  \n",
       "4                       0.283   24  \n",
       "..                        ...  ...  \n",
       "744                     0.140   22  \n",
       "745                     0.391   41  \n",
       "746                     0.370   27  \n",
       "747                     0.270   26  \n",
       "748                     0.307   24  \n",
       "\n",
       "[749 rows x 8 columns]"
      ]
     },
     "execution_count": 9,
     "metadata": {},
     "output_type": "execute_result"
    }
   ],
   "source": [
    "A"
   ]
  },
  {
   "cell_type": "code",
   "execution_count": 10,
   "id": "ee0cd499",
   "metadata": {},
   "outputs": [
    {
     "data": {
      "text/plain": [
       "(array([ 106.68483416, 1366.99421761,   36.14162864,   83.14060406,\n",
       "        1765.36811619,  104.69751208,    5.31038776,  165.30212532]),\n",
       " array([5.21905372e-025, 3.12404191e-299, 1.83485008e-009, 7.64197391e-020,\n",
       "        0.00000000e+000, 1.42279583e-024, 2.11986377e-002, 7.85799461e-038]))"
      ]
     },
     "execution_count": 10,
     "metadata": {},
     "output_type": "execute_result"
    }
   ],
   "source": [
    "chi_scores = chi2(A,b)\n",
    "chi_values = pd.Series(chi_scores[0], index=A.columns).sort_values(ascending=False)\n",
    "chi_scores\n",
    "# First array below stands for chi2 values, second one for p-values of the variables"
   ]
  },
  {
   "cell_type": "code",
   "execution_count": 11,
   "id": "cd56bf8d",
   "metadata": {},
   "outputs": [
    {
     "data": {
      "text/plain": [
       "Insulin                     1765.368116\n",
       "Glucose                     1366.994218\n",
       "Age                          165.302125\n",
       "Pregnancies                  106.684834\n",
       "BMI                          104.697512\n",
       "SkinThickness                 83.140604\n",
       "BloodPressure                 36.141629\n",
       "DiabetesPedigreeFunction       5.310388\n",
       "dtype: float64"
      ]
     },
     "execution_count": 11,
     "metadata": {},
     "output_type": "execute_result"
    }
   ],
   "source": [
    "chi_values"
   ]
  },
  {
   "cell_type": "markdown",
   "id": "84171b6f",
   "metadata": {},
   "source": [
    "#### According to chi^2 statistic, we conclude that 'Pregnancies', 'Glucose' and 'Age' have the highest significance in explaining 'Outcome' Variable"
   ]
  },
  {
   "cell_type": "code",
   "execution_count": 12,
   "id": "dd31418b",
   "metadata": {},
   "outputs": [
    {
     "data": {
      "text/plain": [
       "array([ True,  True,  True,  True,  True,  True,  True,  True])"
      ]
     },
     "execution_count": 12,
     "metadata": {},
     "output_type": "execute_result"
    }
   ],
   "source": [
    "chi_scores[1] < 0.05\n",
    "#Checking if p-values are higher than 5% level of significance"
   ]
  },
  {
   "cell_type": "markdown",
   "id": "75030b94",
   "metadata": {},
   "source": [
    "#### Additionally we spot, that every vairable p-value is smaller than 5%, so we keep all the variables in the model."
   ]
  },
  {
   "cell_type": "markdown",
   "id": "01468461",
   "metadata": {},
   "source": [
    "## Logistic Regression\n",
    "Now we will build a Logistic Regression model and show coefficients of variables."
   ]
  },
  {
   "cell_type": "code",
   "execution_count": 13,
   "id": "314c083e",
   "metadata": {},
   "outputs": [],
   "source": [
    "input_train, input_test, outcome_train, outcome_test = train_test_split(A, b, test_size=0.33, random_state=42)"
   ]
  },
  {
   "cell_type": "code",
   "execution_count": 14,
   "id": "ca1fa6ef",
   "metadata": {
    "scrolled": true
   },
   "outputs": [
    {
     "name": "stdout",
     "output_type": "stream",
     "text": [
      "(501, 8)\n",
      "(248, 8)\n"
     ]
    }
   ],
   "source": [
    "print(input_train.shape)\n",
    "print(input_test.shape)"
   ]
  },
  {
   "cell_type": "code",
   "execution_count": 15,
   "id": "8b1c2f09",
   "metadata": {},
   "outputs": [
    {
     "data": {
      "text/html": [
       "<style>#sk-container-id-1 {color: black;}#sk-container-id-1 pre{padding: 0;}#sk-container-id-1 div.sk-toggleable {background-color: white;}#sk-container-id-1 label.sk-toggleable__label {cursor: pointer;display: block;width: 100%;margin-bottom: 0;padding: 0.3em;box-sizing: border-box;text-align: center;}#sk-container-id-1 label.sk-toggleable__label-arrow:before {content: \"▸\";float: left;margin-right: 0.25em;color: #696969;}#sk-container-id-1 label.sk-toggleable__label-arrow:hover:before {color: black;}#sk-container-id-1 div.sk-estimator:hover label.sk-toggleable__label-arrow:before {color: black;}#sk-container-id-1 div.sk-toggleable__content {max-height: 0;max-width: 0;overflow: hidden;text-align: left;background-color: #f0f8ff;}#sk-container-id-1 div.sk-toggleable__content pre {margin: 0.2em;color: black;border-radius: 0.25em;background-color: #f0f8ff;}#sk-container-id-1 input.sk-toggleable__control:checked~div.sk-toggleable__content {max-height: 200px;max-width: 100%;overflow: auto;}#sk-container-id-1 input.sk-toggleable__control:checked~label.sk-toggleable__label-arrow:before {content: \"▾\";}#sk-container-id-1 div.sk-estimator input.sk-toggleable__control:checked~label.sk-toggleable__label {background-color: #d4ebff;}#sk-container-id-1 div.sk-label input.sk-toggleable__control:checked~label.sk-toggleable__label {background-color: #d4ebff;}#sk-container-id-1 input.sk-hidden--visually {border: 0;clip: rect(1px 1px 1px 1px);clip: rect(1px, 1px, 1px, 1px);height: 1px;margin: -1px;overflow: hidden;padding: 0;position: absolute;width: 1px;}#sk-container-id-1 div.sk-estimator {font-family: monospace;background-color: #f0f8ff;border: 1px dotted black;border-radius: 0.25em;box-sizing: border-box;margin-bottom: 0.5em;}#sk-container-id-1 div.sk-estimator:hover {background-color: #d4ebff;}#sk-container-id-1 div.sk-parallel-item::after {content: \"\";width: 100%;border-bottom: 1px solid gray;flex-grow: 1;}#sk-container-id-1 div.sk-label:hover label.sk-toggleable__label {background-color: #d4ebff;}#sk-container-id-1 div.sk-serial::before {content: \"\";position: absolute;border-left: 1px solid gray;box-sizing: border-box;top: 0;bottom: 0;left: 50%;z-index: 0;}#sk-container-id-1 div.sk-serial {display: flex;flex-direction: column;align-items: center;background-color: white;padding-right: 0.2em;padding-left: 0.2em;position: relative;}#sk-container-id-1 div.sk-item {position: relative;z-index: 1;}#sk-container-id-1 div.sk-parallel {display: flex;align-items: stretch;justify-content: center;background-color: white;position: relative;}#sk-container-id-1 div.sk-item::before, #sk-container-id-1 div.sk-parallel-item::before {content: \"\";position: absolute;border-left: 1px solid gray;box-sizing: border-box;top: 0;bottom: 0;left: 50%;z-index: -1;}#sk-container-id-1 div.sk-parallel-item {display: flex;flex-direction: column;z-index: 1;position: relative;background-color: white;}#sk-container-id-1 div.sk-parallel-item:first-child::after {align-self: flex-end;width: 50%;}#sk-container-id-1 div.sk-parallel-item:last-child::after {align-self: flex-start;width: 50%;}#sk-container-id-1 div.sk-parallel-item:only-child::after {width: 0;}#sk-container-id-1 div.sk-dashed-wrapped {border: 1px dashed gray;margin: 0 0.4em 0.5em 0.4em;box-sizing: border-box;padding-bottom: 0.4em;background-color: white;}#sk-container-id-1 div.sk-label label {font-family: monospace;font-weight: bold;display: inline-block;line-height: 1.2em;}#sk-container-id-1 div.sk-label-container {text-align: center;}#sk-container-id-1 div.sk-container {/* jupyter's `normalize.less` sets `[hidden] { display: none; }` but bootstrap.min.css set `[hidden] { display: none !important; }` so we also need the `!important` here to be able to override the default hidden behavior on the sphinx rendered scikit-learn.org. See: https://github.com/scikit-learn/scikit-learn/issues/21755 */display: inline-block !important;position: relative;}#sk-container-id-1 div.sk-text-repr-fallback {display: none;}</style><div id=\"sk-container-id-1\" class=\"sk-top-container\"><div class=\"sk-text-repr-fallback\"><pre>LogisticRegression(max_iter=500)</pre><b>In a Jupyter environment, please rerun this cell to show the HTML representation or trust the notebook. <br />On GitHub, the HTML representation is unable to render, please try loading this page with nbviewer.org.</b></div><div class=\"sk-container\" hidden><div class=\"sk-item\"><div class=\"sk-estimator sk-toggleable\"><input class=\"sk-toggleable__control sk-hidden--visually\" id=\"sk-estimator-id-1\" type=\"checkbox\" checked><label for=\"sk-estimator-id-1\" class=\"sk-toggleable__label sk-toggleable__label-arrow\">LogisticRegression</label><div class=\"sk-toggleable__content\"><pre>LogisticRegression(max_iter=500)</pre></div></div></div></div></div>"
      ],
      "text/plain": [
       "LogisticRegression(max_iter=500)"
      ]
     },
     "execution_count": 15,
     "metadata": {},
     "output_type": "execute_result"
    }
   ],
   "source": [
    "logreg = LogisticRegression(max_iter=500)\n",
    "logreg.fit(input_train, outcome_train)"
   ]
  },
  {
   "cell_type": "code",
   "execution_count": 16,
   "id": "aa820c69",
   "metadata": {},
   "outputs": [],
   "source": [
    "coefficients = logreg.coef_[0]"
   ]
  },
  {
   "cell_type": "code",
   "execution_count": 17,
   "id": "a4ada937",
   "metadata": {},
   "outputs": [
    {
     "data": {
      "text/html": [
       "<div>\n",
       "<style scoped>\n",
       "    .dataframe tbody tr th:only-of-type {\n",
       "        vertical-align: middle;\n",
       "    }\n",
       "\n",
       "    .dataframe tbody tr th {\n",
       "        vertical-align: top;\n",
       "    }\n",
       "\n",
       "    .dataframe thead th {\n",
       "        text-align: right;\n",
       "    }\n",
       "</style>\n",
       "<table border=\"1\" class=\"dataframe\">\n",
       "  <thead>\n",
       "    <tr style=\"text-align: right;\">\n",
       "      <th></th>\n",
       "      <th>Variables</th>\n",
       "      <th>coefficients</th>\n",
       "    </tr>\n",
       "  </thead>\n",
       "  <tbody>\n",
       "    <tr>\n",
       "      <th>0</th>\n",
       "      <td>Pregnancies</td>\n",
       "      <td>0.133555</td>\n",
       "    </tr>\n",
       "    <tr>\n",
       "      <th>1</th>\n",
       "      <td>Glucose</td>\n",
       "      <td>0.041437</td>\n",
       "    </tr>\n",
       "    <tr>\n",
       "      <th>2</th>\n",
       "      <td>BloodPressure</td>\n",
       "      <td>-0.018357</td>\n",
       "    </tr>\n",
       "    <tr>\n",
       "      <th>3</th>\n",
       "      <td>SkinThickness</td>\n",
       "      <td>0.012587</td>\n",
       "    </tr>\n",
       "    <tr>\n",
       "      <th>4</th>\n",
       "      <td>Insulin</td>\n",
       "      <td>-0.002021</td>\n",
       "    </tr>\n",
       "    <tr>\n",
       "      <th>5</th>\n",
       "      <td>BMI</td>\n",
       "      <td>0.090161</td>\n",
       "    </tr>\n",
       "    <tr>\n",
       "      <th>6</th>\n",
       "      <td>DiabetesPedigreeFunction</td>\n",
       "      <td>0.769135</td>\n",
       "    </tr>\n",
       "    <tr>\n",
       "      <th>7</th>\n",
       "      <td>Age</td>\n",
       "      <td>0.005883</td>\n",
       "    </tr>\n",
       "  </tbody>\n",
       "</table>\n",
       "</div>"
      ],
      "text/plain": [
       "                  Variables  coefficients\n",
       "0               Pregnancies      0.133555\n",
       "1                   Glucose      0.041437\n",
       "2             BloodPressure     -0.018357\n",
       "3             SkinThickness      0.012587\n",
       "4                   Insulin     -0.002021\n",
       "5                       BMI      0.090161\n",
       "6  DiabetesPedigreeFunction      0.769135\n",
       "7                       Age      0.005883"
      ]
     },
     "execution_count": 17,
     "metadata": {},
     "output_type": "execute_result"
    }
   ],
   "source": [
    "pd.DataFrame({'Variables': data.columns[:-1], 'coefficients' : coefficients})\n",
    "#coefficients of variables of the model"
   ]
  },
  {
   "cell_type": "markdown",
   "id": "fd1e1869",
   "metadata": {},
   "source": [
    "### Predicting variables and model evaluation"
   ]
  },
  {
   "cell_type": "code",
   "execution_count": 18,
   "id": "3fd3ce07",
   "metadata": {},
   "outputs": [],
   "source": [
    "outcome_predict = logreg.predict(input_test)"
   ]
  },
  {
   "cell_type": "code",
   "execution_count": 19,
   "id": "61712c2b",
   "metadata": {
    "scrolled": true
   },
   "outputs": [
    {
     "data": {
      "text/html": [
       "<div>\n",
       "<style scoped>\n",
       "    .dataframe tbody tr th:only-of-type {\n",
       "        vertical-align: middle;\n",
       "    }\n",
       "\n",
       "    .dataframe tbody tr th {\n",
       "        vertical-align: top;\n",
       "    }\n",
       "\n",
       "    .dataframe thead th {\n",
       "        text-align: right;\n",
       "    }\n",
       "</style>\n",
       "<table border=\"1\" class=\"dataframe\">\n",
       "  <thead>\n",
       "    <tr style=\"text-align: right;\">\n",
       "      <th></th>\n",
       "      <th>Real_Outcome</th>\n",
       "      <th>Predicted_Outcome</th>\n",
       "      <th>Correct_preciction</th>\n",
       "    </tr>\n",
       "  </thead>\n",
       "  <tbody>\n",
       "    <tr>\n",
       "      <th>581</th>\n",
       "      <td>0</td>\n",
       "      <td>0</td>\n",
       "      <td>1</td>\n",
       "    </tr>\n",
       "    <tr>\n",
       "      <th>356</th>\n",
       "      <td>1</td>\n",
       "      <td>1</td>\n",
       "      <td>1</td>\n",
       "    </tr>\n",
       "    <tr>\n",
       "      <th>133</th>\n",
       "      <td>0</td>\n",
       "      <td>0</td>\n",
       "      <td>1</td>\n",
       "    </tr>\n",
       "    <tr>\n",
       "      <th>250</th>\n",
       "      <td>1</td>\n",
       "      <td>0</td>\n",
       "      <td>0</td>\n",
       "    </tr>\n",
       "    <tr>\n",
       "      <th>299</th>\n",
       "      <td>0</td>\n",
       "      <td>0</td>\n",
       "      <td>1</td>\n",
       "    </tr>\n",
       "    <tr>\n",
       "      <th>...</th>\n",
       "      <td>...</td>\n",
       "      <td>...</td>\n",
       "      <td>...</td>\n",
       "    </tr>\n",
       "    <tr>\n",
       "      <th>338</th>\n",
       "      <td>0</td>\n",
       "      <td>0</td>\n",
       "      <td>1</td>\n",
       "    </tr>\n",
       "    <tr>\n",
       "      <th>658</th>\n",
       "      <td>1</td>\n",
       "      <td>0</td>\n",
       "      <td>0</td>\n",
       "    </tr>\n",
       "    <tr>\n",
       "      <th>74</th>\n",
       "      <td>0</td>\n",
       "      <td>0</td>\n",
       "      <td>1</td>\n",
       "    </tr>\n",
       "    <tr>\n",
       "      <th>331</th>\n",
       "      <td>0</td>\n",
       "      <td>0</td>\n",
       "      <td>1</td>\n",
       "    </tr>\n",
       "    <tr>\n",
       "      <th>409</th>\n",
       "      <td>0</td>\n",
       "      <td>0</td>\n",
       "      <td>1</td>\n",
       "    </tr>\n",
       "  </tbody>\n",
       "</table>\n",
       "<p>248 rows × 3 columns</p>\n",
       "</div>"
      ],
      "text/plain": [
       "     Real_Outcome  Predicted_Outcome  Correct_preciction\n",
       "581             0                  0                   1\n",
       "356             1                  1                   1\n",
       "133             0                  0                   1\n",
       "250             1                  0                   0\n",
       "299             0                  0                   1\n",
       "..            ...                ...                 ...\n",
       "338             0                  0                   1\n",
       "658             1                  0                   0\n",
       "74              0                  0                   1\n",
       "331             0                  0                   1\n",
       "409             0                  0                   1\n",
       "\n",
       "[248 rows x 3 columns]"
      ]
     },
     "execution_count": 19,
     "metadata": {},
     "output_type": "execute_result"
    }
   ],
   "source": [
    "evaluation_table = pd.DataFrame({'Real_Outcome':outcome_test, 'Predicted_Outcome': outcome_predict})\n",
    "evaluation_table['Correct_preciction'] = np.where((evaluation_table['Real_Outcome'] == evaluation_table['Predicted_Outcome']), 1, 0)\n",
    "evaluation_table"
   ]
  },
  {
   "cell_type": "code",
   "execution_count": 20,
   "id": "6d707297",
   "metadata": {},
   "outputs": [
    {
     "data": {
      "text/plain": [
       "0.7540322580645161"
      ]
     },
     "execution_count": 20,
     "metadata": {},
     "output_type": "execute_result"
    }
   ],
   "source": [
    "evaluation_table['Correct_preciction'].mean()"
   ]
  },
  {
   "cell_type": "markdown",
   "id": "a0d4136e",
   "metadata": {},
   "source": [
    "We can conclude, that our model predicted 75,4% diabities cases correctly. The author's subjective opinion says that this is a relatively good accuracy."
   ]
  },
  {
   "cell_type": "markdown",
   "id": "a5a263dc",
   "metadata": {},
   "source": [
    "## Logistic regression without Insulin Variable\n",
    "In one of the previuos sections, we spotted that in 48% of cases, we have missing data for 'Insulin' variable. We will fill those values with mean of 'Insulin'. Now, we will drop 'Insulin' variable, run Logistic Regression, and see if we will get beter preformance of the model."
   ]
  },
  {
   "cell_type": "code",
   "execution_count": 21,
   "id": "4d5aae26",
   "metadata": {},
   "outputs": [],
   "source": [
    "data2 = data.drop(columns='Insulin', axis=1)"
   ]
  },
  {
   "cell_type": "code",
   "execution_count": 22,
   "id": "20cb29b5",
   "metadata": {},
   "outputs": [
    {
     "data": {
      "text/html": [
       "<style>#sk-container-id-2 {color: black;}#sk-container-id-2 pre{padding: 0;}#sk-container-id-2 div.sk-toggleable {background-color: white;}#sk-container-id-2 label.sk-toggleable__label {cursor: pointer;display: block;width: 100%;margin-bottom: 0;padding: 0.3em;box-sizing: border-box;text-align: center;}#sk-container-id-2 label.sk-toggleable__label-arrow:before {content: \"▸\";float: left;margin-right: 0.25em;color: #696969;}#sk-container-id-2 label.sk-toggleable__label-arrow:hover:before {color: black;}#sk-container-id-2 div.sk-estimator:hover label.sk-toggleable__label-arrow:before {color: black;}#sk-container-id-2 div.sk-toggleable__content {max-height: 0;max-width: 0;overflow: hidden;text-align: left;background-color: #f0f8ff;}#sk-container-id-2 div.sk-toggleable__content pre {margin: 0.2em;color: black;border-radius: 0.25em;background-color: #f0f8ff;}#sk-container-id-2 input.sk-toggleable__control:checked~div.sk-toggleable__content {max-height: 200px;max-width: 100%;overflow: auto;}#sk-container-id-2 input.sk-toggleable__control:checked~label.sk-toggleable__label-arrow:before {content: \"▾\";}#sk-container-id-2 div.sk-estimator input.sk-toggleable__control:checked~label.sk-toggleable__label {background-color: #d4ebff;}#sk-container-id-2 div.sk-label input.sk-toggleable__control:checked~label.sk-toggleable__label {background-color: #d4ebff;}#sk-container-id-2 input.sk-hidden--visually {border: 0;clip: rect(1px 1px 1px 1px);clip: rect(1px, 1px, 1px, 1px);height: 1px;margin: -1px;overflow: hidden;padding: 0;position: absolute;width: 1px;}#sk-container-id-2 div.sk-estimator {font-family: monospace;background-color: #f0f8ff;border: 1px dotted black;border-radius: 0.25em;box-sizing: border-box;margin-bottom: 0.5em;}#sk-container-id-2 div.sk-estimator:hover {background-color: #d4ebff;}#sk-container-id-2 div.sk-parallel-item::after {content: \"\";width: 100%;border-bottom: 1px solid gray;flex-grow: 1;}#sk-container-id-2 div.sk-label:hover label.sk-toggleable__label {background-color: #d4ebff;}#sk-container-id-2 div.sk-serial::before {content: \"\";position: absolute;border-left: 1px solid gray;box-sizing: border-box;top: 0;bottom: 0;left: 50%;z-index: 0;}#sk-container-id-2 div.sk-serial {display: flex;flex-direction: column;align-items: center;background-color: white;padding-right: 0.2em;padding-left: 0.2em;position: relative;}#sk-container-id-2 div.sk-item {position: relative;z-index: 1;}#sk-container-id-2 div.sk-parallel {display: flex;align-items: stretch;justify-content: center;background-color: white;position: relative;}#sk-container-id-2 div.sk-item::before, #sk-container-id-2 div.sk-parallel-item::before {content: \"\";position: absolute;border-left: 1px solid gray;box-sizing: border-box;top: 0;bottom: 0;left: 50%;z-index: -1;}#sk-container-id-2 div.sk-parallel-item {display: flex;flex-direction: column;z-index: 1;position: relative;background-color: white;}#sk-container-id-2 div.sk-parallel-item:first-child::after {align-self: flex-end;width: 50%;}#sk-container-id-2 div.sk-parallel-item:last-child::after {align-self: flex-start;width: 50%;}#sk-container-id-2 div.sk-parallel-item:only-child::after {width: 0;}#sk-container-id-2 div.sk-dashed-wrapped {border: 1px dashed gray;margin: 0 0.4em 0.5em 0.4em;box-sizing: border-box;padding-bottom: 0.4em;background-color: white;}#sk-container-id-2 div.sk-label label {font-family: monospace;font-weight: bold;display: inline-block;line-height: 1.2em;}#sk-container-id-2 div.sk-label-container {text-align: center;}#sk-container-id-2 div.sk-container {/* jupyter's `normalize.less` sets `[hidden] { display: none; }` but bootstrap.min.css set `[hidden] { display: none !important; }` so we also need the `!important` here to be able to override the default hidden behavior on the sphinx rendered scikit-learn.org. See: https://github.com/scikit-learn/scikit-learn/issues/21755 */display: inline-block !important;position: relative;}#sk-container-id-2 div.sk-text-repr-fallback {display: none;}</style><div id=\"sk-container-id-2\" class=\"sk-top-container\"><div class=\"sk-text-repr-fallback\"><pre>LogisticRegression(max_iter=500)</pre><b>In a Jupyter environment, please rerun this cell to show the HTML representation or trust the notebook. <br />On GitHub, the HTML representation is unable to render, please try loading this page with nbviewer.org.</b></div><div class=\"sk-container\" hidden><div class=\"sk-item\"><div class=\"sk-estimator sk-toggleable\"><input class=\"sk-toggleable__control sk-hidden--visually\" id=\"sk-estimator-id-2\" type=\"checkbox\" checked><label for=\"sk-estimator-id-2\" class=\"sk-toggleable__label sk-toggleable__label-arrow\">LogisticRegression</label><div class=\"sk-toggleable__content\"><pre>LogisticRegression(max_iter=500)</pre></div></div></div></div></div>"
      ],
      "text/plain": [
       "LogisticRegression(max_iter=500)"
      ]
     },
     "execution_count": 22,
     "metadata": {},
     "output_type": "execute_result"
    }
   ],
   "source": [
    "A2 = data2.iloc[:,0:-1]\n",
    "b2 = data2.iloc[:,-1]\n",
    "input_train, input_test, outcome_train, outcome_test = train_test_split(A2, b2, test_size=0.33, random_state=42)\n",
    "logreg = LogisticRegression(max_iter=500)\n",
    "logreg.fit(input_train, outcome_train)"
   ]
  },
  {
   "cell_type": "code",
   "execution_count": 23,
   "id": "45798d54",
   "metadata": {},
   "outputs": [
    {
     "data": {
      "text/plain": [
       "0.7459677419354839"
      ]
     },
     "execution_count": 23,
     "metadata": {},
     "output_type": "execute_result"
    }
   ],
   "source": [
    "outcome_predict = logreg.predict(input_test)\n",
    "evaluation_table = pd.DataFrame({'Real_Outcome':outcome_test, 'Predicted_Outcome': outcome_predict})\n",
    "evaluation_table['Correct_preciction'] = np.where((evaluation_table['Real_Outcome'] == evaluation_table['Predicted_Outcome']), 1, 0)\n",
    "evaluation_table['Correct_preciction'].mean()"
   ]
  },
  {
   "cell_type": "markdown",
   "id": "3011abba",
   "metadata": {},
   "source": [
    "Model without 'Insulin' variable was corret in 74,6% of cases, so it has an overall worse accuracy. The hypothesis that dropping 'Insulin' from the model would improve model's accuracy, turned out to be not true."
   ]
  }
 ],
 "metadata": {
  "kernelspec": {
   "display_name": "Python 3 (ipykernel)",
   "language": "python",
   "name": "python3"
  },
  "language_info": {
   "codemirror_mode": {
    "name": "ipython",
    "version": 3
   },
   "file_extension": ".py",
   "mimetype": "text/x-python",
   "name": "python",
   "nbconvert_exporter": "python",
   "pygments_lexer": "ipython3",
   "version": "3.11.5"
  }
 },
 "nbformat": 4,
 "nbformat_minor": 5
}
